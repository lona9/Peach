{
 "cells": [
  {
   "cell_type": "markdown",
   "metadata": {},
   "source": [
    "## Uso general\n",
    "\n",
    "Se deben cambiar los nombres del input en la segunda celda, y el output en la última. Para no tener que escribir la ruta del archivo, tienes que dejar este archivo y el archivo input en la misma carpeta. Después de eso, ir a Cell -> Run All y esperar. El archivo output se creará en la misma carpeta.\n",
    "\n",
    "La primera vez que cargue la primera celda, se demora como 1 minuto, después de eso, se va a demorar segundos por cada vez que corras todo."
   ]
  },
  {
   "cell_type": "code",
   "execution_count": 1,
   "metadata": {},
   "outputs": [],
   "source": [
    "import pandas as pd\n",
    "import numpy as np\n",
    "import os\n",
    "from openpyxl import load_workbook"
   ]
  },
  {
   "cell_type": "markdown",
   "metadata": {},
   "source": [
    "### *cambiar nombre del archivo input\n",
    "\n",
    "El archivo debe ingresar como .xlsx, por lo que debe ser convertido antes de procesarlo."
   ]
  },
  {
   "cell_type": "code",
   "execution_count": 10,
   "metadata": {
    "scrolled": true
   },
   "outputs": [
    {
     "name": "stdout",
     "output_type": "stream",
     "text": [
      "432021curvascamarasrodmenost.xlsx\n",
      "532021curvascamaramenostrod.xlsx\n",
      "632021rodcurvascamaramast.xlsx\n",
      "632021rodcurvascamaramastp11ab.xlsx\n"
     ]
    }
   ],
   "source": [
    "for file in os.listdir('.'):\n",
    "    if file == \"Peach(1).ipynb\" or file == \".ipynb_checkpoints\" or file == \"output\":\n",
    "        pass\n",
    "    else:\n",
    "        inputfile = file\n",
    "        print(inputfile)\n",
    "        wb = load_workbook(file, data_only=True) ## archivo debe ser convertido a .xlsx antes de leer\n",
    "        ws = wb.active\n",
    "\n",
    "        df = pd.DataFrame(ws.values, columns=['A', 'B', 'C', 'D', 'E', 'F', 'G', 'H', 'I', 'J', 'K', 'L', 'M', 'N', 'O', 'P', 'Q', 'R', 'S',\n",
    "                                         'T', 'U', 'V', 'W', 'X', 'Y', 'Z', 'AA', 'AB', 'AC', 'AD', 'AE', 'AF', 'AG', 'AH', 'AI', 'AJ', 'AK', 'AL', 'AM', 'AN', 'AO', 'AP', 'AQ', 'AR', 'AS', 'AT', 'AU', 'AV', 'AW', 'AX', 'AY', 'AZ',\n",
    "                                         'BA', 'BB', 'BC', 'BD', 'BE', 'BF', 'BG', 'BH', 'BI', 'BJ', 'BK', 'BL', 'BM', 'BN', 'BO', 'BP', 'BQ', 'BR', 'BS',\n",
    "                                         'BT', 'BU', 'BV', 'BW', 'BX', 'BY', 'BZ', 'CA', 'CB', 'CC', 'CD', 'CE', 'CF', 'CG', 'CH', 'CI'])\n",
    "        df.rename(columns={'A': 'check'}, inplace=True)\n",
    "        header = list(range(12))\n",
    "        df.drop(header, inplace=True)\n",
    "        df.check = df.check.astype('str')\n",
    "        df.check = df.check.replace('Remark=', np.nan)\n",
    "        df.dropna(inplace=True)\n",
    "        df.check = df.check.astype('int')\n",
    "        outputfile = inputfile.split(\".\")[0] + \"_output.xlsx\"\n",
    "        df.to_excel(os.path.join(\"output\", outputfile), index=False)"
   ]
  }
 ],
 "metadata": {
  "kernelspec": {
   "display_name": "Python 3",
   "language": "python",
   "name": "python3"
  },
  "language_info": {
   "codemirror_mode": {
    "name": "ipython",
    "version": 3
   },
   "file_extension": ".py",
   "mimetype": "text/x-python",
   "name": "python",
   "nbconvert_exporter": "python",
   "pygments_lexer": "ipython3",
   "version": "3.8.5"
  }
 },
 "nbformat": 4,
 "nbformat_minor": 4
}
